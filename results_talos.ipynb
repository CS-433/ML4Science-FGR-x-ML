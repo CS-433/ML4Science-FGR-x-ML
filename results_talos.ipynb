{
 "cells": [
  {
   "cell_type": "code",
   "execution_count": 1,
   "metadata": {},
   "outputs": [
    {
     "name": "stderr",
     "output_type": "stream",
     "text": [
      "C:\\Users\\digen\\anaconda3\\lib\\site-packages\\pandas\\core\\computation\\expressions.py:20: UserWarning: Pandas requires version '2.7.3' or newer of 'numexpr' (version '2.7.1' currently installed).\n",
      "  from pandas.core.computation.check import NUMEXPR_INSTALLED\n"
     ]
    }
   ],
   "source": [
    "import pandas as pd\n",
    "import numpy as np\n",
    "import matplotlib.pyplot as plt"
   ]
  },
  {
   "cell_type": "code",
   "execution_count": 2,
   "metadata": {},
   "outputs": [],
   "source": [
    "df = pd.read_csv('results.csv', sep=',')"
   ]
  },
  {
   "cell_type": "code",
   "execution_count": 3,
   "metadata": {},
   "outputs": [
    {
     "data": {
      "text/html": [
       "<div>\n",
       "<style scoped>\n",
       "    .dataframe tbody tr th:only-of-type {\n",
       "        vertical-align: middle;\n",
       "    }\n",
       "\n",
       "    .dataframe tbody tr th {\n",
       "        vertical-align: top;\n",
       "    }\n",
       "\n",
       "    .dataframe thead th {\n",
       "        text-align: right;\n",
       "    }\n",
       "</style>\n",
       "<table border=\"1\" class=\"dataframe\">\n",
       "  <thead>\n",
       "    <tr style=\"text-align: right;\">\n",
       "      <th></th>\n",
       "      <th>Unnamed: 0</th>\n",
       "      <th>round_epochs</th>\n",
       "      <th>loss</th>\n",
       "      <th>val_loss</th>\n",
       "      <th>nr_layers</th>\n",
       "      <th>hidden_layer_size</th>\n",
       "      <th>activation</th>\n",
       "      <th>dropout</th>\n",
       "      <th>lr</th>\n",
       "      <th>average_train_loss</th>\n",
       "      <th>average_test_loss</th>\n",
       "    </tr>\n",
       "  </thead>\n",
       "  <tbody>\n",
       "    <tr>\n",
       "      <th>0</th>\n",
       "      <td>111</td>\n",
       "      <td>100</td>\n",
       "      <td>0.341349</td>\n",
       "      <td>0.354034</td>\n",
       "      <td>4</td>\n",
       "      <td>32</td>\n",
       "      <td>ReLU()</td>\n",
       "      <td>0.10</td>\n",
       "      <td>0.01</td>\n",
       "      <td>0.877374</td>\n",
       "      <td>0.558875</td>\n",
       "    </tr>\n",
       "    <tr>\n",
       "      <th>1</th>\n",
       "      <td>99</td>\n",
       "      <td>100</td>\n",
       "      <td>0.339881</td>\n",
       "      <td>0.332215</td>\n",
       "      <td>4</td>\n",
       "      <td>16</td>\n",
       "      <td>ReLU()</td>\n",
       "      <td>0.10</td>\n",
       "      <td>0.01</td>\n",
       "      <td>0.876788</td>\n",
       "      <td>0.574967</td>\n",
       "    </tr>\n",
       "    <tr>\n",
       "      <th>2</th>\n",
       "      <td>102</td>\n",
       "      <td>100</td>\n",
       "      <td>0.337377</td>\n",
       "      <td>0.363232</td>\n",
       "      <td>4</td>\n",
       "      <td>16</td>\n",
       "      <td>LeakyReLU(negative_slope=0.01)</td>\n",
       "      <td>0.05</td>\n",
       "      <td>0.01</td>\n",
       "      <td>0.895902</td>\n",
       "      <td>0.594386</td>\n",
       "    </tr>\n",
       "    <tr>\n",
       "      <th>3</th>\n",
       "      <td>114</td>\n",
       "      <td>100</td>\n",
       "      <td>0.330233</td>\n",
       "      <td>0.368772</td>\n",
       "      <td>4</td>\n",
       "      <td>32</td>\n",
       "      <td>LeakyReLU(negative_slope=0.01)</td>\n",
       "      <td>0.05</td>\n",
       "      <td>0.01</td>\n",
       "      <td>0.871411</td>\n",
       "      <td>0.598012</td>\n",
       "    </tr>\n",
       "    <tr>\n",
       "      <th>4</th>\n",
       "      <td>96</td>\n",
       "      <td>100</td>\n",
       "      <td>0.365616</td>\n",
       "      <td>0.375056</td>\n",
       "      <td>4</td>\n",
       "      <td>16</td>\n",
       "      <td>ReLU()</td>\n",
       "      <td>0.05</td>\n",
       "      <td>0.01</td>\n",
       "      <td>0.907693</td>\n",
       "      <td>0.602811</td>\n",
       "    </tr>\n",
       "  </tbody>\n",
       "</table>\n",
       "</div>"
      ],
      "text/plain": [
       "   Unnamed: 0  round_epochs      loss  val_loss  nr_layers  hidden_layer_size  \\\n",
       "0         111           100  0.341349  0.354034          4                 32   \n",
       "1          99           100  0.339881  0.332215          4                 16   \n",
       "2         102           100  0.337377  0.363232          4                 16   \n",
       "3         114           100  0.330233  0.368772          4                 32   \n",
       "4          96           100  0.365616  0.375056          4                 16   \n",
       "\n",
       "                       activation  dropout    lr  average_train_loss  \\\n",
       "0                          ReLU()     0.10  0.01            0.877374   \n",
       "1                          ReLU()     0.10  0.01            0.876788   \n",
       "2  LeakyReLU(negative_slope=0.01)     0.05  0.01            0.895902   \n",
       "3  LeakyReLU(negative_slope=0.01)     0.05  0.01            0.871411   \n",
       "4                          ReLU()     0.05  0.01            0.907693   \n",
       "\n",
       "   average_test_loss  \n",
       "0           0.558875  \n",
       "1           0.574967  \n",
       "2           0.594386  \n",
       "3           0.598012  \n",
       "4           0.602811  "
      ]
     },
     "execution_count": 3,
     "metadata": {},
     "output_type": "execute_result"
    }
   ],
   "source": [
    "df.head()"
   ]
  },
  {
   "cell_type": "code",
   "execution_count": 91,
   "metadata": {},
   "outputs": [
    {
     "data": {
      "text/html": [
       "<div>\n",
       "<style scoped>\n",
       "    .dataframe tbody tr th:only-of-type {\n",
       "        vertical-align: middle;\n",
       "    }\n",
       "\n",
       "    .dataframe tbody tr th {\n",
       "        vertical-align: top;\n",
       "    }\n",
       "\n",
       "    .dataframe thead th {\n",
       "        text-align: right;\n",
       "    }\n",
       "</style>\n",
       "<table border=\"1\" class=\"dataframe\">\n",
       "  <thead>\n",
       "    <tr style=\"text-align: right;\">\n",
       "      <th></th>\n",
       "      <th>Unnamed: 0</th>\n",
       "      <th>round_epochs</th>\n",
       "      <th>loss</th>\n",
       "      <th>val_loss</th>\n",
       "      <th>nr_layers</th>\n",
       "      <th>hidden_layer_size</th>\n",
       "      <th>activation</th>\n",
       "      <th>dropout</th>\n",
       "      <th>lr</th>\n",
       "      <th>average_train_loss</th>\n",
       "      <th>average_test_loss</th>\n",
       "    </tr>\n",
       "  </thead>\n",
       "  <tbody>\n",
       "    <tr>\n",
       "      <th>1</th>\n",
       "      <td>99</td>\n",
       "      <td>100</td>\n",
       "      <td>0.339881</td>\n",
       "      <td>0.332215</td>\n",
       "      <td>4</td>\n",
       "      <td>16</td>\n",
       "      <td>ReLU()</td>\n",
       "      <td>0.10</td>\n",
       "      <td>0.01</td>\n",
       "      <td>0.876788</td>\n",
       "      <td>0.574967</td>\n",
       "    </tr>\n",
       "    <tr>\n",
       "      <th>0</th>\n",
       "      <td>111</td>\n",
       "      <td>100</td>\n",
       "      <td>0.341349</td>\n",
       "      <td>0.354034</td>\n",
       "      <td>4</td>\n",
       "      <td>32</td>\n",
       "      <td>ReLU()</td>\n",
       "      <td>0.10</td>\n",
       "      <td>0.01</td>\n",
       "      <td>0.877374</td>\n",
       "      <td>0.558875</td>\n",
       "    </tr>\n",
       "    <tr>\n",
       "      <th>2</th>\n",
       "      <td>102</td>\n",
       "      <td>100</td>\n",
       "      <td>0.337377</td>\n",
       "      <td>0.363232</td>\n",
       "      <td>4</td>\n",
       "      <td>16</td>\n",
       "      <td>LeakyReLU(negative_slope=0.01)</td>\n",
       "      <td>0.05</td>\n",
       "      <td>0.01</td>\n",
       "      <td>0.895902</td>\n",
       "      <td>0.594386</td>\n",
       "    </tr>\n",
       "    <tr>\n",
       "      <th>3</th>\n",
       "      <td>114</td>\n",
       "      <td>100</td>\n",
       "      <td>0.330233</td>\n",
       "      <td>0.368772</td>\n",
       "      <td>4</td>\n",
       "      <td>32</td>\n",
       "      <td>LeakyReLU(negative_slope=0.01)</td>\n",
       "      <td>0.05</td>\n",
       "      <td>0.01</td>\n",
       "      <td>0.871411</td>\n",
       "      <td>0.598012</td>\n",
       "    </tr>\n",
       "    <tr>\n",
       "      <th>4</th>\n",
       "      <td>96</td>\n",
       "      <td>100</td>\n",
       "      <td>0.365616</td>\n",
       "      <td>0.375056</td>\n",
       "      <td>4</td>\n",
       "      <td>16</td>\n",
       "      <td>ReLU()</td>\n",
       "      <td>0.05</td>\n",
       "      <td>0.01</td>\n",
       "      <td>0.907693</td>\n",
       "      <td>0.602811</td>\n",
       "    </tr>\n",
       "    <tr>\n",
       "      <th>8</th>\n",
       "      <td>108</td>\n",
       "      <td>100</td>\n",
       "      <td>0.400224</td>\n",
       "      <td>0.410014</td>\n",
       "      <td>4</td>\n",
       "      <td>32</td>\n",
       "      <td>ReLU()</td>\n",
       "      <td>0.05</td>\n",
       "      <td>0.01</td>\n",
       "      <td>0.916300</td>\n",
       "      <td>0.641340</td>\n",
       "    </tr>\n",
       "    <tr>\n",
       "      <th>7</th>\n",
       "      <td>105</td>\n",
       "      <td>100</td>\n",
       "      <td>0.403243</td>\n",
       "      <td>0.421492</td>\n",
       "      <td>4</td>\n",
       "      <td>16</td>\n",
       "      <td>LeakyReLU(negative_slope=0.01)</td>\n",
       "      <td>0.10</td>\n",
       "      <td>0.01</td>\n",
       "      <td>0.942326</td>\n",
       "      <td>0.639238</td>\n",
       "    </tr>\n",
       "    <tr>\n",
       "      <th>5</th>\n",
       "      <td>117</td>\n",
       "      <td>100</td>\n",
       "      <td>0.338708</td>\n",
       "      <td>0.445229</td>\n",
       "      <td>4</td>\n",
       "      <td>32</td>\n",
       "      <td>LeakyReLU(negative_slope=0.01)</td>\n",
       "      <td>0.10</td>\n",
       "      <td>0.01</td>\n",
       "      <td>0.885598</td>\n",
       "      <td>0.628965</td>\n",
       "    </tr>\n",
       "    <tr>\n",
       "      <th>6</th>\n",
       "      <td>126</td>\n",
       "      <td>100</td>\n",
       "      <td>0.354453</td>\n",
       "      <td>0.485543</td>\n",
       "      <td>4</td>\n",
       "      <td>64</td>\n",
       "      <td>LeakyReLU(negative_slope=0.01)</td>\n",
       "      <td>0.05</td>\n",
       "      <td>0.01</td>\n",
       "      <td>0.896928</td>\n",
       "      <td>0.638302</td>\n",
       "    </tr>\n",
       "    <tr>\n",
       "      <th>9</th>\n",
       "      <td>129</td>\n",
       "      <td>100</td>\n",
       "      <td>0.397254</td>\n",
       "      <td>0.491981</td>\n",
       "      <td>4</td>\n",
       "      <td>64</td>\n",
       "      <td>LeakyReLU(negative_slope=0.01)</td>\n",
       "      <td>0.10</td>\n",
       "      <td>0.01</td>\n",
       "      <td>0.935653</td>\n",
       "      <td>0.676684</td>\n",
       "    </tr>\n",
       "  </tbody>\n",
       "</table>\n",
       "</div>"
      ],
      "text/plain": [
       "   Unnamed: 0  round_epochs      loss  val_loss  nr_layers  hidden_layer_size  \\\n",
       "1          99           100  0.339881  0.332215          4                 16   \n",
       "0         111           100  0.341349  0.354034          4                 32   \n",
       "2         102           100  0.337377  0.363232          4                 16   \n",
       "3         114           100  0.330233  0.368772          4                 32   \n",
       "4          96           100  0.365616  0.375056          4                 16   \n",
       "8         108           100  0.400224  0.410014          4                 32   \n",
       "7         105           100  0.403243  0.421492          4                 16   \n",
       "5         117           100  0.338708  0.445229          4                 32   \n",
       "6         126           100  0.354453  0.485543          4                 64   \n",
       "9         129           100  0.397254  0.491981          4                 64   \n",
       "\n",
       "                       activation  dropout    lr  average_train_loss  \\\n",
       "1                          ReLU()     0.10  0.01            0.876788   \n",
       "0                          ReLU()     0.10  0.01            0.877374   \n",
       "2  LeakyReLU(negative_slope=0.01)     0.05  0.01            0.895902   \n",
       "3  LeakyReLU(negative_slope=0.01)     0.05  0.01            0.871411   \n",
       "4                          ReLU()     0.05  0.01            0.907693   \n",
       "8                          ReLU()     0.05  0.01            0.916300   \n",
       "7  LeakyReLU(negative_slope=0.01)     0.10  0.01            0.942326   \n",
       "5  LeakyReLU(negative_slope=0.01)     0.10  0.01            0.885598   \n",
       "6  LeakyReLU(negative_slope=0.01)     0.05  0.01            0.896928   \n",
       "9  LeakyReLU(negative_slope=0.01)     0.10  0.01            0.935653   \n",
       "\n",
       "   average_test_loss  \n",
       "1           0.574967  \n",
       "0           0.558875  \n",
       "2           0.594386  \n",
       "3           0.598012  \n",
       "4           0.602811  \n",
       "8           0.641340  \n",
       "7           0.639238  \n",
       "5           0.628965  \n",
       "6           0.638302  \n",
       "9           0.676684  "
      ]
     },
     "execution_count": 91,
     "metadata": {},
     "output_type": "execute_result"
    }
   ],
   "source": [
    "df.sort_values(by = 'val_loss', ascending = True).head(10)#.query('nr_layers == 4 and hidden_layer_size == 32 and dropout == 0.1')\n",
    "## 99 or 114\n",
    "\n",
    "# 10^10 cut\n",
    "# "
   ]
  },
  {
   "cell_type": "code",
   "execution_count": 26,
   "metadata": {},
   "outputs": [
    {
     "name": "stdout",
     "output_type": "stream",
     "text": [
      "The lowest average test loss (0.5588747599767507) is obtained with the following architecture\n",
      " nr_layers: 4\n",
      " hidden_layer_size: 32\n",
      " activation: ReLU()\n",
      " dropout: 0.1\n",
      " lr: 0.01\n"
     ]
    }
   ],
   "source": [
    "print('The lowest average test loss ({}) is obtained with the following architecture\\n nr_layers: {}\\n hidden_layer_size: {}\\n activation: {}\\n dropout: {}\\n lr: {}'.format(df.iloc[0]['average_test_loss'], df.iloc[0]['nr_layers'], \n",
    "df.iloc[0]['hidden_layer_size'], df.iloc[0]['activation'],df.iloc[0]['dropout'], df.iloc[0]['lr']) )"
   ]
  },
  {
   "cell_type": "code",
   "execution_count": 27,
   "metadata": {},
   "outputs": [
    {
     "name": "stdout",
     "output_type": "stream",
     "text": [
      "The highest average test loss (85.85879327252856) is obtained with the following architecture\n",
      " nr_layers: 3\n",
      " hidden_layer_size: 32\n",
      " activation: LeakyReLU(negative_slope=0.01)\n",
      " dropout: 0.05\n",
      " lr: 0.0001\n"
     ]
    }
   ],
   "source": [
    "print('The highest average test loss ({}) is obtained with the following architecture\\n nr_layers: {}\\n hidden_layer_size: {}\\n activation: {}\\n dropout: {}\\n lr: {}'.format(df.iloc[-1]['average_test_loss'], df.iloc[-1]['nr_layers'], df.iloc[-1]['hidden_layer_size'],\n",
    "                                                df.iloc[-1]['activation'],df.iloc[-1]['dropout'], df.iloc[-1]['lr']) )"
   ]
  },
  {
   "cell_type": "code",
   "execution_count": 22,
   "metadata": {},
   "outputs": [],
   "source": [
    "a2=np.argmin(df['val_loss'])"
   ]
  },
  {
   "cell_type": "code",
   "execution_count": 28,
   "metadata": {},
   "outputs": [
    {
     "name": "stdout",
     "output_type": "stream",
     "text": [
      "The lowest val loss(0.3322148578977142) at epoch 100 is obtained with the following architecture\n",
      " nr_layers: 4\n",
      " hidden_layer_size: 16\n",
      " activation: ReLU()\n",
      " dropout: 0.1\n",
      " lr: 0.01\n"
     ]
    }
   ],
   "source": [
    "print('The lowest val loss({}) at epoch 100 is obtained with the following architecture\\n nr_layers: {}\\n hidden_layer_size: {}\\n activation: {}\\n dropout: {}\\n lr: {}'.format(df.iloc[a2]['val_loss'], df.iloc[a2]['nr_layers'], df.iloc[a2]['hidden_layer_size'],\n",
    "                                                df.iloc[a2]['activation'],df.iloc[a2]['dropout'], df.iloc[a2]['lr']) )"
   ]
  },
  {
   "cell_type": "code",
   "execution_count": 24,
   "metadata": {},
   "outputs": [],
   "source": [
    "a3=np.argmax(df['val_loss'])"
   ]
  },
  {
   "cell_type": "code",
   "execution_count": 29,
   "metadata": {},
   "outputs": [
    {
     "name": "stdout",
     "output_type": "stream",
     "text": [
      "The highest val loss (85.38967969982701) at epoch 100 is obtained with the following architecture\n",
      " nr_layers: 3\n",
      " hidden_layer_size: 32\n",
      " activation: LeakyReLU(negative_slope=0.01)\n",
      " dropout: 0.05\n",
      " lr: 0.0001\n"
     ]
    }
   ],
   "source": [
    "print('The highest val loss ({}) at epoch 100 is obtained with the following architecture\\n nr_layers: {}\\n hidden_layer_size: {}\\n activation: {}\\n dropout: {}\\n lr: {}'.format(df.iloc[a3]['val_loss'], df.iloc[a3]['nr_layers'], df.iloc[a3]['hidden_layer_size'],\n",
    "                                                df.iloc[a3]['activation'],df.iloc[a3]['dropout'], df.iloc[a3]['lr']) )"
   ]
  },
  {
   "cell_type": "code",
   "execution_count": 79,
   "metadata": {},
   "outputs": [],
   "source": [
    "list1=list(df.index)\n",
    "list2=list(round(df['val_loss'],3))"
   ]
  },
  {
   "cell_type": "code",
   "execution_count": 81,
   "metadata": {},
   "outputs": [
    {
     "data": {
      "image/png": "[encoded data removed]",
      "text/plain": [
       "<Figure size 720x504 with 1 Axes>"
      ]
     },
     "metadata": {
      "needs_background": "light"
     },
     "output_type": "display_data"
    }
   ],
   "source": [
    "figure = plt.figure(figsize=(10, 7))\n",
    "plt.axhline(y=1, color='r', label='treshold')\n",
    "plt.scatter(list1, list2)\n",
    "plt.ylabel(\"Average train loss\")\n",
    "plt.xlabel(\"Model number\")\n",
    "plt.xscale('log')\n",
    "plt.yscale('log')\n",
    "plt.title(\"Visualization of val loss for all models\")\n",
    "plt.legend()\n",
    "plt.show()"
   ]
  },
  {
   "cell_type": "code",
   "execution_count": 65,
   "metadata": {},
   "outputs": [
    {
     "data": {
      "image/png": "[encoded data removed]",
      "text/plain": [
       "<Figure size 720x504 with 1 Axes>"
      ]
     },
     "metadata": {
      "needs_background": "light"
     },
     "output_type": "display_data"
    }
   ],
   "source": [
    "figure = plt.figure(figsize=(10, 7))\n",
    "plt.scatter(list2[0:10], list1[0:10])\n",
    "plt.xlabel(\"Average train loss\")\n",
    "plt.ylabel(\"Model number\")\n",
    "plt.title(\"Visualization of average train loss for all models under a Treshold of 0.7\")\n",
    "plt.show()"
   ]
  }
 ],
 "metadata": {
  "kernelspec": {
   "display_name": "Python 3",
   "language": "python",
   "name": "python3"
  },
  "language_info": {
   "codemirror_mode": {
    "name": "ipython",
    "version": 3
   },
   "file_extension": ".py",
   "mimetype": "text/x-python",
   "name": "python",
   "nbconvert_exporter": "python",
   "pygments_lexer": "ipython3",
   "version": "3.8.5"
  }
 },
 "nbformat": 4,
 "nbformat_minor": 4
}
