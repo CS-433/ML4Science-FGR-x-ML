{
 "cells": [
  {
   "cell_type": "code",
   "execution_count": 1,
   "metadata": {},
   "outputs": [],
   "source": [
    "import h5py\n",
    "import pandas as pd\n",
    "import numpy as np\n",
    "import matplotlib.pyplot as plt \n",
    "import seaborn as sns\n",
    "from sklearn.cluster import KMeans \n",
    "from sklearn.metrics import silhouette_score\n",
    "from sklearn.preprocessing import MinMaxScaler\n",
    "from sklearn.decomposition import PCA\n",
    "from utils_cosm import MHI_Modi2019, MHI_Padmanabhan2017\n",
    "import warnings\n",
    "warnings.filterwarnings(\"ignore\")\n",
    "%matplotlib inline\n",
    "%load_ext autoreload\n",
    "%autoreload 2"
   ]
  },
  {
   "cell_type": "code",
   "execution_count": 13,
   "metadata": {},
   "outputs": [
    {
     "name": "stdout",
     "output_type": "stream",
     "text": [
      "z=2.460\n",
      "Om0\tsigma8\tAsn1\tAagn1\tAsn2\tAagn2\n",
      "[0.2878  0.785   1.8226  0.77378 1.60993 0.98282]\n"
     ]
    }
   ],
   "source": [
    "i_run, i_z = 6, 1 # This means we work using LH_0 and z = 2.46\n",
    "\n",
    "path_in = './outputs/LH_%d/' %(i_run)\n",
    "path_out = path_in\n",
    "\n",
    "redshift = np.loadtxt('./outputs/redshifts.txt', usecols=(1))\n",
    "params = np.loadtxt('./outputs/params_IllustrisTNG.txt')\n",
    "\n",
    "z = redshift[i_z]\n",
    "#t_back = cosmo.lookback_time(z).to(u.Myr)\n",
    "print('z=%.3f' %(z))\n",
    "\n",
    "print('Om0\tsigma8\tAsn1\tAagn1\tAsn2\tAagn2')\n",
    "print(params[i_run])"
   ]
  },
  {
   "cell_type": "code",
   "execution_count": 3,
   "metadata": {},
   "outputs": [
    {
     "name": "stdout",
     "output_type": "stream",
     "text": [
      "24671\n"
     ]
    }
   ],
   "source": [
    "# Importing data\n",
    "f = h5py.File('%sMHI_LH%d_z=%.3f.hdf5' %(path_in, i_run, z))\n",
    "mHalo = f['MassHalo'][:]\n",
    "mHI = f['M_HI'][:]\n",
    "print(mHalo.size)\n",
    "f.close()"
   ]
  },
  {
   "cell_type": "code",
   "execution_count": 14,
   "metadata": {},
   "outputs": [
    {
     "name": "stdout",
     "output_type": "stream",
     "text": [
      "           MassHalo       VelHalo         Nsubs        MassBH     dotMassBH  \\\n",
      "count  2.379900e+04  23799.000000  23799.000000  2.379900e+04  2.379900e+04   \n",
      "mean   9.923163e+09    160.378952      0.934241  7.105525e+04  8.362755e+04   \n",
      "std    5.375802e+10     69.182700      0.798932  2.445248e+06  3.929155e+06   \n",
      "min    4.112524e+08      5.241392      0.000000  0.000000e+00  0.000000e+00   \n",
      "25%    1.828179e+09    111.716755      1.000000  0.000000e+00  0.000000e+00   \n",
      "50%    2.927628e+09    153.349869      1.000000  0.000000e+00  0.000000e+00   \n",
      "75%    6.140109e+09    200.546677      1.000000  0.000000e+00  0.000000e+00   \n",
      "max    3.165422e+12    526.323792     31.000000  2.507143e+08  3.684733e+08   \n",
      "\n",
      "            PosHalo   MetalsGas_0   MetalsGas_1   MetalsGas_2  MetalsStar_0  \\\n",
      "count  23799.000000  23799.000000  23799.000000  2.379900e+04  23799.000000   \n",
      "mean      23.444899      0.759848      0.240043  6.624875e-05      0.071861   \n",
      "std        6.910161      0.004947      0.001571  2.534670e-04      0.222232   \n",
      "min        0.779551      0.000000      0.000000  0.000000e+00      0.000000   \n",
      "25%       18.944171      0.759998      0.240000  8.000000e-10      0.000000   \n",
      "50%       23.914236      0.760000      0.240000  8.204047e-10      0.000000   \n",
      "75%       28.068687      0.760000      0.240001  1.041314e-06      0.000000   \n",
      "max       42.478054      0.760000      0.248331  1.326304e-02      0.760000   \n",
      "\n",
      "       MetalsStar_1  MetalsStar_2           SFR          M_HI  \n",
      "count  23799.000000  23799.000000  23799.000000  2.379900e+04  \n",
      "mean       0.022748      0.000059      0.033603  8.036182e+07  \n",
      "std        0.070348      0.000495      0.906201  4.539240e+08  \n",
      "min        0.000000      0.000000      0.000000  0.000000e+00  \n",
      "25%        0.000000      0.000000      0.000000  1.521437e+04  \n",
      "50%        0.000000      0.000000      0.000000  3.635219e+05  \n",
      "75%        0.000000      0.000000      0.000000  5.419484e+07  \n",
      "max        0.250963      0.019166    118.373619  4.061025e+10  \n"
     ]
    }
   ],
   "source": [
    "# Defining feature names\n",
    "\n",
    "new_features = ['MassHalo','VelHalo','Nsubs','MassBH','dotMassBH','PosHalo',\n",
    "                'MetalsGas_0','MetalsGas_1','MetalsGas_2','MetalsStar_0',\n",
    "                'MetalsStar_1','MetalsStar_2','SFR','M_HI']\n",
    "\n",
    "# Defining a new dataset\n",
    "\n",
    "f = h5py.File('%sMHI_LH%d_z=%.3f.hdf5' %(path_in, i_run, z))\n",
    "\n",
    "MHalo = f['MassHalo']\n",
    "VelHalo = f['VelHalo']\n",
    "Nsubs = f['Nsubs']\n",
    "MassBH = f['MassBH']\n",
    "dotMassBH = f['dotMassBH']\n",
    "posHalo = f['PosHalo']\n",
    "MetalsGas = f['MetalsGas']\n",
    "MetalsStar = f['MetalsStar']\n",
    "SFR = f['SFR']\n",
    "M_HI = f['M_HI']\n",
    "\n",
    "data = np.empty((MHalo.size,len(new_features)))\n",
    "\n",
    "data[:,0] = MHalo\n",
    "\n",
    "# Instead of saving the velocity of the Halo among each canonical direction, we decide to summarize them by compute \n",
    "# the norm of the valocity. By doing so, we not only reduce the dimension of our data (extremely useful to avoid the \n",
    "# curse of dimensionality), but we ensure to reduce the computation without losing useful information.\n",
    "\n",
    "data[:,1] = np.linalg.norm(VelHalo, axis = 1)\n",
    "data[:,2] = Nsubs\n",
    "data[:,3] = MassBH\n",
    "data[:,4] = dotMassBH\n",
    "\n",
    "# Since the model does not take into account the interaction among different Halos, there is no need to save the coordinates\n",
    "# along different dimension but it is enough to save the norm of the vector indicating the distance of the Halo from the\n",
    "# centre of the simulation\n",
    "\n",
    "data[:,5] = np.linalg.norm(posHalo, axis = 1)\n",
    "\n",
    "data[:,6] = MetalsGas[:,0]\n",
    "data[:,7] = MetalsGas[:,1]\n",
    "data[:,8] = MetalsGas[:,2]\n",
    "data[:,9] = MetalsStar[:,0]\n",
    "data[:,10] = MetalsStar[:,1]\n",
    "data[:,11] = MetalsStar[:,2]\n",
    "data[:,12] = SFR\n",
    "data[:,13] = M_HI\n",
    "\n",
    "df_original = pd.DataFrame(data, columns = new_features)\n",
    "print(df_original.describe())\n",
    "df_original.sample(5)\n",
    "df = df_original.copy()"
   ]
  },
  {
   "cell_type": "markdown",
   "metadata": {},
   "source": [
    "#### PROBLEMS"
   ]
  },
  {
   "cell_type": "markdown",
   "metadata": {},
   "source": [
    "We noticed that the following features have value zero in the majority of the observations  \n",
    "- SFR\n",
    "- MassBH\n",
    "- dotMassBH (that is strictly correlated with the one above)"
   ]
  },
  {
   "cell_type": "code",
   "execution_count": 15,
   "metadata": {},
   "outputs": [
    {
     "name": "stdout",
     "output_type": "stream",
     "text": [
      "0.000000    21479\n",
      "0.158912        1\n",
      "0.006673        1\n",
      "0.015949        1\n",
      "0.270804        1\n",
      "            ...  \n",
      "0.027989        1\n",
      "0.057930        1\n",
      "0.108045        1\n",
      "0.027011        1\n",
      "0.010493        1\n",
      "Name: SFR, Length: 2321, dtype: int64\n",
      "\n",
      " the total number of observation is 23799\n"
     ]
    }
   ],
   "source": [
    "print(df['SFR'].value_counts())\n",
    "print('\\n the total number of observation is {}'.format(df.shape[0]))"
   ]
  },
  {
   "cell_type": "code",
   "execution_count": 16,
   "metadata": {},
   "outputs": [
    {
     "name": "stdout",
     "output_type": "stream",
     "text": [
      "0.000000e+00    23031\n",
      "8.000018e+05        2\n",
      "8.000011e+05        2\n",
      "8.000091e+05        2\n",
      "8.001593e+05        2\n",
      "                ...  \n",
      "1.743808e+07        1\n",
      "8.070761e+05        1\n",
      "8.725911e+05        1\n",
      "8.069633e+05        1\n",
      "8.025422e+05        1\n",
      "Name: MassBH, Length: 763, dtype: int64\n",
      "\n",
      " the total number of observation is 23799\n"
     ]
    }
   ],
   "source": [
    "print(df['MassBH'].value_counts())\n",
    "print('\\n the total number of observation is {}'.format(df.shape[0]))"
   ]
  },
  {
   "cell_type": "code",
   "execution_count": 17,
   "metadata": {},
   "outputs": [
    {
     "name": "stdout",
     "output_type": "stream",
     "text": [
      "0.000000         23031\n",
      "134934.328125        1\n",
      "1285.847778          1\n",
      "2088.588867          1\n",
      "35465.093750         1\n",
      "                 ...  \n",
      "160915.156250        1\n",
      "12616.737305         1\n",
      "17040.324219         1\n",
      "5796.000977          1\n",
      "1007.103455          1\n",
      "Name: dotMassBH, Length: 769, dtype: int64\n",
      "\n",
      " the total number of observation is 23799\n"
     ]
    }
   ],
   "source": [
    "print(df['dotMassBH'].value_counts())\n",
    "print('\\n the total number of observation is {}'.format(df.shape[0]))"
   ]
  }
 ],
 "metadata": {
  "kernelspec": {
   "display_name": "Python 3",
   "language": "python",
   "name": "python3"
  },
  "language_info": {
   "codemirror_mode": {
    "name": "ipython",
    "version": 3
   },
   "file_extension": ".py",
   "mimetype": "text/x-python",
   "name": "python",
   "nbconvert_exporter": "python",
   "pygments_lexer": "ipython3",
   "version": "3.8.5"
  }
 },
 "nbformat": 4,
 "nbformat_minor": 4
}
